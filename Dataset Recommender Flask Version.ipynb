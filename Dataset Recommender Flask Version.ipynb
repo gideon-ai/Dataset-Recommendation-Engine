{
 "cells": [
  {
   "cell_type": "code",
   "execution_count": 1,
   "metadata": {},
   "outputs": [],
   "source": [
    "from flask import Flask, Blueprint, render_template, session, request,send_from_directory,redirect,url_for,request,send_file\n",
    "from flask_pymongo import PyMongo\n",
    "import pandas as pd\n",
    "from pymongo import MongoClient"
   ]
  },
  {
   "cell_type": "code",
   "execution_count": 4,
   "metadata": {
    "scrolled": true
   },
   "outputs": [
    {
     "name": "stdout",
     "output_type": "stream",
     "text": [
      " * Serving Flask app \"__main__\" (lazy loading)\n",
      " * Environment: production\n",
      "   WARNING: This is a development server. Do not use it in a production deployment.\n",
      "   Use a production WSGI server instead.\n",
      " * Debug mode: off\n"
     ]
    },
    {
     "name": "stderr",
     "output_type": "stream",
     "text": [
      " * Running on http://127.0.0.1:3000/ (Press CTRL+C to quit)\n",
      "127.0.0.1 - - [15/Feb/2022 20:00:57] \"\u001b[37mGET / HTTP/1.1\u001b[0m\" 200 -\n",
      "127.0.0.1 - - [15/Feb/2022 20:01:02] \"\u001b[37mPOST /datarecommendation HTTP/1.1\u001b[0m\" 200 -\n"
     ]
    }
   ],
   "source": [
    "app = Flask(__name__)\n",
    "\n",
    "@app.route('/', methods=['POST','GET'])\n",
    "def dataset():\n",
    "    \n",
    "    return render_template('dataset.html')\n",
    "\n",
    "@app.route('/datarecommendation', methods=['POST','GET'])\n",
    "def datarecommendation():\n",
    "    \n",
    "    return render_template('datarecommendation.html')\n",
    "@app.route('/kernelreco', methods=['POST','GET'])\n",
    "def kernelreco():\n",
    "    \n",
    "    return render_template('kernelreco.html')\n",
    "\n",
    "\n",
    "\n",
    "if __name__ == '__main__':\n",
    "    app.secret_key = 'mysecret'\n",
    "    app.run(port=3000)"
   ]
  },
  {
   "cell_type": "code",
   "execution_count": null,
   "metadata": {},
   "outputs": [],
   "source": []
  }
 ],
 "metadata": {
  "kernelspec": {
   "display_name": "Python 3",
   "language": "python",
   "name": "python3"
  },
  "language_info": {
   "codemirror_mode": {
    "name": "ipython",
    "version": 3
   },
   "file_extension": ".py",
   "mimetype": "text/x-python",
   "name": "python",
   "nbconvert_exporter": "python",
   "pygments_lexer": "ipython3",
   "version": "3.7.3"
  }
 },
 "nbformat": 4,
 "nbformat_minor": 2
}
